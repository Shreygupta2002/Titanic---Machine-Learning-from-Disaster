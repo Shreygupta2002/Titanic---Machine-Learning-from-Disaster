{
  "nbformat": 4,
  "nbformat_minor": 0,
  "metadata": {
    "colab": {
      "name": "Titanic1.ipynb",
      "provenance": [],
      "mount_file_id": "1qpvcKXaPb-M6ALRz071DzIMsyj-YJrLt",
      "authorship_tag": "ABX9TyNvULwvj8EkXHDR2ZI9Dm0q",
      "include_colab_link": true
    },
    "kernelspec": {
      "name": "python3",
      "display_name": "Python 3"
    },
    "language_info": {
      "name": "python"
    },
    "accelerator": "GPU"
  },
  "cells": [
    {
      "cell_type": "markdown",
      "metadata": {
        "id": "view-in-github",
        "colab_type": "text"
      },
      "source": [
        "<a href=\"https://colab.research.google.com/github/Shreygupta2002/Titanic---Machine-Learning-from-Disaster/blob/main/Titanic1.ipynb\" target=\"_parent\"><img src=\"https://colab.research.google.com/assets/colab-badge.svg\" alt=\"Open In Colab\"/></a>"
      ]
    },
    {
      "cell_type": "markdown",
      "metadata": {
        "id": "-4DNlSmI5W-o"
      },
      "source": [
        "# Titanic🚢"
      ]
    },
    {
      "cell_type": "markdown",
      "metadata": {
        "id": "3nqRiJMh6AA_"
      },
      "source": [
        "# **Introduction**\n",
        "The sinking of the Titanic is one of the most infamous shipwrecks in history.\n",
        "\n",
        "On April 15, 1912, during her maiden voyage, the widely considered “unsinkable” RMS Titanic sank after colliding with an iceberg. Unfortunately, there weren’t enough lifeboats for everyone onboard, resulting in the death of 1502 out of 2224 passengers and crew.\n",
        "\n",
        "While there was some element of luck involved in surviving, it seems some groups of people were more likely to survive than others.\n",
        "\n",
        "In this challenge, we ask you to build a predictive model that answers the question: “what sorts of people were more likely to survive?” using passenger data (ie name, age, gender, socio-economic class, etc).\n",
        "\n",
        "Link for the Competition - https://www.kaggle.com/c/titanic/overview"
      ]
    },
    {
      "cell_type": "markdown",
      "metadata": {
        "id": "SoNOjfWO6FHP"
      },
      "source": [
        "**Importing Libraries and DataSet**\n"
      ]
    },
    {
      "cell_type": "code",
      "metadata": {
        "id": "6BAsedlN6H6g"
      },
      "source": [
        "import numpy as np\n",
        "import tensorflow as tf\n",
        "from tensorflow import keras\n",
        "from tensorflow.keras import layers\n",
        "import pandas as pd\n",
        "import matplotlib.pyplot as plt\n"
      ],
      "execution_count": 1,
      "outputs": []
    },
    {
      "cell_type": "code",
      "metadata": {
        "id": "oiA5qgUc6KAf"
      },
      "source": [
        "df=pd.read_csv('/content/drive/Othercomputers/My Laptop/Machine Learning/Titanic/train.csv')"
      ],
      "execution_count": 2,
      "outputs": []
    },
    {
      "cell_type": "markdown",
      "metadata": {
        "id": "-sQ_IXHh6N32"
      },
      "source": [
        "**Overview Of The Data**"
      ]
    },
    {
      "cell_type": "code",
      "metadata": {
        "colab": {
          "base_uri": "https://localhost:8080/",
          "height": 204
        },
        "id": "sI_1wtgs6LuH",
        "outputId": "09613aeb-c3a1-45d6-c1ab-bce7a6b3302b"
      },
      "source": [
        "df.head()"
      ],
      "execution_count": 3,
      "outputs": [
        {
          "output_type": "execute_result",
          "data": {
            "text/html": [
              "<div>\n",
              "<style scoped>\n",
              "    .dataframe tbody tr th:only-of-type {\n",
              "        vertical-align: middle;\n",
              "    }\n",
              "\n",
              "    .dataframe tbody tr th {\n",
              "        vertical-align: top;\n",
              "    }\n",
              "\n",
              "    .dataframe thead th {\n",
              "        text-align: right;\n",
              "    }\n",
              "</style>\n",
              "<table border=\"1\" class=\"dataframe\">\n",
              "  <thead>\n",
              "    <tr style=\"text-align: right;\">\n",
              "      <th></th>\n",
              "      <th>PassengerId</th>\n",
              "      <th>Survived</th>\n",
              "      <th>Pclass</th>\n",
              "      <th>Name</th>\n",
              "      <th>Sex</th>\n",
              "      <th>Age</th>\n",
              "      <th>SibSp</th>\n",
              "      <th>Parch</th>\n",
              "      <th>Ticket</th>\n",
              "      <th>Fare</th>\n",
              "      <th>Cabin</th>\n",
              "      <th>Embarked</th>\n",
              "    </tr>\n",
              "  </thead>\n",
              "  <tbody>\n",
              "    <tr>\n",
              "      <th>0</th>\n",
              "      <td>1</td>\n",
              "      <td>0</td>\n",
              "      <td>3</td>\n",
              "      <td>Braund, Mr. Owen Harris</td>\n",
              "      <td>male</td>\n",
              "      <td>22.0</td>\n",
              "      <td>1</td>\n",
              "      <td>0</td>\n",
              "      <td>A/5 21171</td>\n",
              "      <td>7.2500</td>\n",
              "      <td>NaN</td>\n",
              "      <td>S</td>\n",
              "    </tr>\n",
              "    <tr>\n",
              "      <th>1</th>\n",
              "      <td>2</td>\n",
              "      <td>1</td>\n",
              "      <td>1</td>\n",
              "      <td>Cumings, Mrs. John Bradley (Florence Briggs Th...</td>\n",
              "      <td>female</td>\n",
              "      <td>38.0</td>\n",
              "      <td>1</td>\n",
              "      <td>0</td>\n",
              "      <td>PC 17599</td>\n",
              "      <td>71.2833</td>\n",
              "      <td>C85</td>\n",
              "      <td>C</td>\n",
              "    </tr>\n",
              "    <tr>\n",
              "      <th>2</th>\n",
              "      <td>3</td>\n",
              "      <td>1</td>\n",
              "      <td>3</td>\n",
              "      <td>Heikkinen, Miss. Laina</td>\n",
              "      <td>female</td>\n",
              "      <td>26.0</td>\n",
              "      <td>0</td>\n",
              "      <td>0</td>\n",
              "      <td>STON/O2. 3101282</td>\n",
              "      <td>7.9250</td>\n",
              "      <td>NaN</td>\n",
              "      <td>S</td>\n",
              "    </tr>\n",
              "    <tr>\n",
              "      <th>3</th>\n",
              "      <td>4</td>\n",
              "      <td>1</td>\n",
              "      <td>1</td>\n",
              "      <td>Futrelle, Mrs. Jacques Heath (Lily May Peel)</td>\n",
              "      <td>female</td>\n",
              "      <td>35.0</td>\n",
              "      <td>1</td>\n",
              "      <td>0</td>\n",
              "      <td>113803</td>\n",
              "      <td>53.1000</td>\n",
              "      <td>C123</td>\n",
              "      <td>S</td>\n",
              "    </tr>\n",
              "    <tr>\n",
              "      <th>4</th>\n",
              "      <td>5</td>\n",
              "      <td>0</td>\n",
              "      <td>3</td>\n",
              "      <td>Allen, Mr. William Henry</td>\n",
              "      <td>male</td>\n",
              "      <td>35.0</td>\n",
              "      <td>0</td>\n",
              "      <td>0</td>\n",
              "      <td>373450</td>\n",
              "      <td>8.0500</td>\n",
              "      <td>NaN</td>\n",
              "      <td>S</td>\n",
              "    </tr>\n",
              "  </tbody>\n",
              "</table>\n",
              "</div>"
            ],
            "text/plain": [
              "   PassengerId  Survived  Pclass  ...     Fare Cabin  Embarked\n",
              "0            1         0       3  ...   7.2500   NaN         S\n",
              "1            2         1       1  ...  71.2833   C85         C\n",
              "2            3         1       3  ...   7.9250   NaN         S\n",
              "3            4         1       1  ...  53.1000  C123         S\n",
              "4            5         0       3  ...   8.0500   NaN         S\n",
              "\n",
              "[5 rows x 12 columns]"
            ]
          },
          "metadata": {},
          "execution_count": 3
        }
      ]
    },
    {
      "cell_type": "markdown",
      "metadata": {
        "id": "nbQxAB-B8twI"
      },
      "source": [
        "*We see that the Passenger ID, name, Ticket and Cabin are of no use.\n",
        "So we can remove them.*"
      ]
    },
    {
      "cell_type": "code",
      "metadata": {
        "id": "44vngXOF6RRM"
      },
      "source": [
        "df.drop(columns=['PassengerId','Name','Ticket','Cabin'], inplace=True)"
      ],
      "execution_count": 4,
      "outputs": []
    },
    {
      "cell_type": "code",
      "metadata": {
        "colab": {
          "base_uri": "https://localhost:8080/"
        },
        "id": "hYeRyZev863W",
        "outputId": "2dce3b29-fa7f-44ad-912a-4d913f527843"
      },
      "source": [
        "df.isna().sum()"
      ],
      "execution_count": 5,
      "outputs": [
        {
          "output_type": "execute_result",
          "data": {
            "text/plain": [
              "Survived      0\n",
              "Pclass        0\n",
              "Sex           0\n",
              "Age         177\n",
              "SibSp         0\n",
              "Parch         0\n",
              "Fare          0\n",
              "Embarked      2\n",
              "dtype: int64"
            ]
          },
          "metadata": {},
          "execution_count": 5
        }
      ]
    },
    {
      "cell_type": "markdown",
      "metadata": {
        "id": "liNPpRCc9El2"
      },
      "source": [
        "Filling the missing Embarked values as **S**. Only 2 missing values have very less impact on the dataset."
      ]
    },
    {
      "cell_type": "code",
      "metadata": {
        "id": "ESBM5XtV9BhO"
      },
      "source": [
        "df['Embarked']=df['Embarked'].fillna('S')"
      ],
      "execution_count": 6,
      "outputs": []
    },
    {
      "cell_type": "markdown",
      "metadata": {
        "id": "6Rj3bwlj9fRq"
      },
      "source": [
        "Removing the rows with age NaN"
      ]
    },
    {
      "cell_type": "code",
      "metadata": {
        "id": "8cCIclVV9DdO"
      },
      "source": [
        "df = df[df['Age'].isna()==False]"
      ],
      "execution_count": 7,
      "outputs": []
    },
    {
      "cell_type": "code",
      "metadata": {
        "colab": {
          "base_uri": "https://localhost:8080/",
          "height": 204
        },
        "id": "S9O0s5WK9cIN",
        "outputId": "d46c18e2-8560-4ebb-92c1-44bdf6965f4f"
      },
      "source": [
        "df.head()"
      ],
      "execution_count": 8,
      "outputs": [
        {
          "output_type": "execute_result",
          "data": {
            "text/html": [
              "<div>\n",
              "<style scoped>\n",
              "    .dataframe tbody tr th:only-of-type {\n",
              "        vertical-align: middle;\n",
              "    }\n",
              "\n",
              "    .dataframe tbody tr th {\n",
              "        vertical-align: top;\n",
              "    }\n",
              "\n",
              "    .dataframe thead th {\n",
              "        text-align: right;\n",
              "    }\n",
              "</style>\n",
              "<table border=\"1\" class=\"dataframe\">\n",
              "  <thead>\n",
              "    <tr style=\"text-align: right;\">\n",
              "      <th></th>\n",
              "      <th>Survived</th>\n",
              "      <th>Pclass</th>\n",
              "      <th>Sex</th>\n",
              "      <th>Age</th>\n",
              "      <th>SibSp</th>\n",
              "      <th>Parch</th>\n",
              "      <th>Fare</th>\n",
              "      <th>Embarked</th>\n",
              "    </tr>\n",
              "  </thead>\n",
              "  <tbody>\n",
              "    <tr>\n",
              "      <th>0</th>\n",
              "      <td>0</td>\n",
              "      <td>3</td>\n",
              "      <td>male</td>\n",
              "      <td>22.0</td>\n",
              "      <td>1</td>\n",
              "      <td>0</td>\n",
              "      <td>7.2500</td>\n",
              "      <td>S</td>\n",
              "    </tr>\n",
              "    <tr>\n",
              "      <th>1</th>\n",
              "      <td>1</td>\n",
              "      <td>1</td>\n",
              "      <td>female</td>\n",
              "      <td>38.0</td>\n",
              "      <td>1</td>\n",
              "      <td>0</td>\n",
              "      <td>71.2833</td>\n",
              "      <td>C</td>\n",
              "    </tr>\n",
              "    <tr>\n",
              "      <th>2</th>\n",
              "      <td>1</td>\n",
              "      <td>3</td>\n",
              "      <td>female</td>\n",
              "      <td>26.0</td>\n",
              "      <td>0</td>\n",
              "      <td>0</td>\n",
              "      <td>7.9250</td>\n",
              "      <td>S</td>\n",
              "    </tr>\n",
              "    <tr>\n",
              "      <th>3</th>\n",
              "      <td>1</td>\n",
              "      <td>1</td>\n",
              "      <td>female</td>\n",
              "      <td>35.0</td>\n",
              "      <td>1</td>\n",
              "      <td>0</td>\n",
              "      <td>53.1000</td>\n",
              "      <td>S</td>\n",
              "    </tr>\n",
              "    <tr>\n",
              "      <th>4</th>\n",
              "      <td>0</td>\n",
              "      <td>3</td>\n",
              "      <td>male</td>\n",
              "      <td>35.0</td>\n",
              "      <td>0</td>\n",
              "      <td>0</td>\n",
              "      <td>8.0500</td>\n",
              "      <td>S</td>\n",
              "    </tr>\n",
              "  </tbody>\n",
              "</table>\n",
              "</div>"
            ],
            "text/plain": [
              "   Survived  Pclass     Sex   Age  SibSp  Parch     Fare Embarked\n",
              "0         0       3    male  22.0      1      0   7.2500        S\n",
              "1         1       1  female  38.0      1      0  71.2833        C\n",
              "2         1       3  female  26.0      0      0   7.9250        S\n",
              "3         1       1  female  35.0      1      0  53.1000        S\n",
              "4         0       3    male  35.0      0      0   8.0500        S"
            ]
          },
          "metadata": {},
          "execution_count": 8
        }
      ]
    },
    {
      "cell_type": "markdown",
      "metadata": {
        "id": "mIiyUW6s5ybJ"
      },
      "source": [
        "Modifying the Age Column \n",
        "\n",
        "\n",
        "*   Age <20 as 0\n",
        "*   20<=Age<50 as 1  \n",
        "*   Age>50 as 2\n",
        "\n",
        "\n",
        "\n"
      ]
    },
    {
      "cell_type": "code",
      "metadata": {
        "id": "TBg5JtuAlU8D"
      },
      "source": [
        "for index, row in df.iterrows():\n",
        "  if row['Age']<20:\n",
        "    df.at[index,'Age']=0\n",
        "  elif row['Age']<50:\n",
        "    df.at[index,'Age']=1\n",
        "  else:\n",
        "    df.at[index,'Age']=2\n"
      ],
      "execution_count": 9,
      "outputs": []
    },
    {
      "cell_type": "code",
      "metadata": {
        "colab": {
          "base_uri": "https://localhost:8080/",
          "height": 419
        },
        "id": "iK7RVr6rnEgO",
        "outputId": "0652320e-0ad8-4b63-b134-6ab2477352ca"
      },
      "source": [
        "df"
      ],
      "execution_count": 10,
      "outputs": [
        {
          "output_type": "execute_result",
          "data": {
            "text/html": [
              "<div>\n",
              "<style scoped>\n",
              "    .dataframe tbody tr th:only-of-type {\n",
              "        vertical-align: middle;\n",
              "    }\n",
              "\n",
              "    .dataframe tbody tr th {\n",
              "        vertical-align: top;\n",
              "    }\n",
              "\n",
              "    .dataframe thead th {\n",
              "        text-align: right;\n",
              "    }\n",
              "</style>\n",
              "<table border=\"1\" class=\"dataframe\">\n",
              "  <thead>\n",
              "    <tr style=\"text-align: right;\">\n",
              "      <th></th>\n",
              "      <th>Survived</th>\n",
              "      <th>Pclass</th>\n",
              "      <th>Sex</th>\n",
              "      <th>Age</th>\n",
              "      <th>SibSp</th>\n",
              "      <th>Parch</th>\n",
              "      <th>Fare</th>\n",
              "      <th>Embarked</th>\n",
              "    </tr>\n",
              "  </thead>\n",
              "  <tbody>\n",
              "    <tr>\n",
              "      <th>0</th>\n",
              "      <td>0</td>\n",
              "      <td>3</td>\n",
              "      <td>male</td>\n",
              "      <td>1.0</td>\n",
              "      <td>1</td>\n",
              "      <td>0</td>\n",
              "      <td>7.2500</td>\n",
              "      <td>S</td>\n",
              "    </tr>\n",
              "    <tr>\n",
              "      <th>1</th>\n",
              "      <td>1</td>\n",
              "      <td>1</td>\n",
              "      <td>female</td>\n",
              "      <td>1.0</td>\n",
              "      <td>1</td>\n",
              "      <td>0</td>\n",
              "      <td>71.2833</td>\n",
              "      <td>C</td>\n",
              "    </tr>\n",
              "    <tr>\n",
              "      <th>2</th>\n",
              "      <td>1</td>\n",
              "      <td>3</td>\n",
              "      <td>female</td>\n",
              "      <td>1.0</td>\n",
              "      <td>0</td>\n",
              "      <td>0</td>\n",
              "      <td>7.9250</td>\n",
              "      <td>S</td>\n",
              "    </tr>\n",
              "    <tr>\n",
              "      <th>3</th>\n",
              "      <td>1</td>\n",
              "      <td>1</td>\n",
              "      <td>female</td>\n",
              "      <td>1.0</td>\n",
              "      <td>1</td>\n",
              "      <td>0</td>\n",
              "      <td>53.1000</td>\n",
              "      <td>S</td>\n",
              "    </tr>\n",
              "    <tr>\n",
              "      <th>4</th>\n",
              "      <td>0</td>\n",
              "      <td>3</td>\n",
              "      <td>male</td>\n",
              "      <td>1.0</td>\n",
              "      <td>0</td>\n",
              "      <td>0</td>\n",
              "      <td>8.0500</td>\n",
              "      <td>S</td>\n",
              "    </tr>\n",
              "    <tr>\n",
              "      <th>...</th>\n",
              "      <td>...</td>\n",
              "      <td>...</td>\n",
              "      <td>...</td>\n",
              "      <td>...</td>\n",
              "      <td>...</td>\n",
              "      <td>...</td>\n",
              "      <td>...</td>\n",
              "      <td>...</td>\n",
              "    </tr>\n",
              "    <tr>\n",
              "      <th>885</th>\n",
              "      <td>0</td>\n",
              "      <td>3</td>\n",
              "      <td>female</td>\n",
              "      <td>1.0</td>\n",
              "      <td>0</td>\n",
              "      <td>5</td>\n",
              "      <td>29.1250</td>\n",
              "      <td>Q</td>\n",
              "    </tr>\n",
              "    <tr>\n",
              "      <th>886</th>\n",
              "      <td>0</td>\n",
              "      <td>2</td>\n",
              "      <td>male</td>\n",
              "      <td>1.0</td>\n",
              "      <td>0</td>\n",
              "      <td>0</td>\n",
              "      <td>13.0000</td>\n",
              "      <td>S</td>\n",
              "    </tr>\n",
              "    <tr>\n",
              "      <th>887</th>\n",
              "      <td>1</td>\n",
              "      <td>1</td>\n",
              "      <td>female</td>\n",
              "      <td>0.0</td>\n",
              "      <td>0</td>\n",
              "      <td>0</td>\n",
              "      <td>30.0000</td>\n",
              "      <td>S</td>\n",
              "    </tr>\n",
              "    <tr>\n",
              "      <th>889</th>\n",
              "      <td>1</td>\n",
              "      <td>1</td>\n",
              "      <td>male</td>\n",
              "      <td>1.0</td>\n",
              "      <td>0</td>\n",
              "      <td>0</td>\n",
              "      <td>30.0000</td>\n",
              "      <td>C</td>\n",
              "    </tr>\n",
              "    <tr>\n",
              "      <th>890</th>\n",
              "      <td>0</td>\n",
              "      <td>3</td>\n",
              "      <td>male</td>\n",
              "      <td>1.0</td>\n",
              "      <td>0</td>\n",
              "      <td>0</td>\n",
              "      <td>7.7500</td>\n",
              "      <td>Q</td>\n",
              "    </tr>\n",
              "  </tbody>\n",
              "</table>\n",
              "<p>714 rows × 8 columns</p>\n",
              "</div>"
            ],
            "text/plain": [
              "     Survived  Pclass     Sex  Age  SibSp  Parch     Fare Embarked\n",
              "0           0       3    male  1.0      1      0   7.2500        S\n",
              "1           1       1  female  1.0      1      0  71.2833        C\n",
              "2           1       3  female  1.0      0      0   7.9250        S\n",
              "3           1       1  female  1.0      1      0  53.1000        S\n",
              "4           0       3    male  1.0      0      0   8.0500        S\n",
              "..        ...     ...     ...  ...    ...    ...      ...      ...\n",
              "885         0       3  female  1.0      0      5  29.1250        Q\n",
              "886         0       2    male  1.0      0      0  13.0000        S\n",
              "887         1       1  female  0.0      0      0  30.0000        S\n",
              "889         1       1    male  1.0      0      0  30.0000        C\n",
              "890         0       3    male  1.0      0      0   7.7500        Q\n",
              "\n",
              "[714 rows x 8 columns]"
            ]
          },
          "metadata": {},
          "execution_count": 10
        }
      ]
    },
    {
      "cell_type": "markdown",
      "metadata": {
        "id": "A_Bj0S7d6Op5"
      },
      "source": [
        "Removing the Fare Column as it is of no use.."
      ]
    },
    {
      "cell_type": "code",
      "metadata": {
        "id": "ivb97ZBWnIfc"
      },
      "source": [
        "df.drop(columns=['Fare'], inplace=True)"
      ],
      "execution_count": 11,
      "outputs": []
    },
    {
      "cell_type": "markdown",
      "metadata": {
        "id": "oo3GkZME6r8B"
      },
      "source": [
        "Preparing Data for Training"
      ]
    },
    {
      "cell_type": "code",
      "metadata": {
        "id": "Lp142X1O6jek"
      },
      "source": [
        "df['Sex'].replace({'male':0, 'female':1}, inplace=True)\n",
        "df['Embarked'].replace({'S':0, 'C':1, 'Q':2}, inplace= True)"
      ],
      "execution_count": 12,
      "outputs": []
    },
    {
      "cell_type": "code",
      "metadata": {
        "colab": {
          "base_uri": "https://localhost:8080/",
          "height": 204
        },
        "id": "YmYEaXkd6uJZ",
        "outputId": "f30c3d92-b313-4ae2-cb89-eb837173b8ed"
      },
      "source": [
        "df.head()"
      ],
      "execution_count": 13,
      "outputs": [
        {
          "output_type": "execute_result",
          "data": {
            "text/html": [
              "<div>\n",
              "<style scoped>\n",
              "    .dataframe tbody tr th:only-of-type {\n",
              "        vertical-align: middle;\n",
              "    }\n",
              "\n",
              "    .dataframe tbody tr th {\n",
              "        vertical-align: top;\n",
              "    }\n",
              "\n",
              "    .dataframe thead th {\n",
              "        text-align: right;\n",
              "    }\n",
              "</style>\n",
              "<table border=\"1\" class=\"dataframe\">\n",
              "  <thead>\n",
              "    <tr style=\"text-align: right;\">\n",
              "      <th></th>\n",
              "      <th>Survived</th>\n",
              "      <th>Pclass</th>\n",
              "      <th>Sex</th>\n",
              "      <th>Age</th>\n",
              "      <th>SibSp</th>\n",
              "      <th>Parch</th>\n",
              "      <th>Embarked</th>\n",
              "    </tr>\n",
              "  </thead>\n",
              "  <tbody>\n",
              "    <tr>\n",
              "      <th>0</th>\n",
              "      <td>0</td>\n",
              "      <td>3</td>\n",
              "      <td>0</td>\n",
              "      <td>1.0</td>\n",
              "      <td>1</td>\n",
              "      <td>0</td>\n",
              "      <td>0</td>\n",
              "    </tr>\n",
              "    <tr>\n",
              "      <th>1</th>\n",
              "      <td>1</td>\n",
              "      <td>1</td>\n",
              "      <td>1</td>\n",
              "      <td>1.0</td>\n",
              "      <td>1</td>\n",
              "      <td>0</td>\n",
              "      <td>1</td>\n",
              "    </tr>\n",
              "    <tr>\n",
              "      <th>2</th>\n",
              "      <td>1</td>\n",
              "      <td>3</td>\n",
              "      <td>1</td>\n",
              "      <td>1.0</td>\n",
              "      <td>0</td>\n",
              "      <td>0</td>\n",
              "      <td>0</td>\n",
              "    </tr>\n",
              "    <tr>\n",
              "      <th>3</th>\n",
              "      <td>1</td>\n",
              "      <td>1</td>\n",
              "      <td>1</td>\n",
              "      <td>1.0</td>\n",
              "      <td>1</td>\n",
              "      <td>0</td>\n",
              "      <td>0</td>\n",
              "    </tr>\n",
              "    <tr>\n",
              "      <th>4</th>\n",
              "      <td>0</td>\n",
              "      <td>3</td>\n",
              "      <td>0</td>\n",
              "      <td>1.0</td>\n",
              "      <td>0</td>\n",
              "      <td>0</td>\n",
              "      <td>0</td>\n",
              "    </tr>\n",
              "  </tbody>\n",
              "</table>\n",
              "</div>"
            ],
            "text/plain": [
              "   Survived  Pclass  Sex  Age  SibSp  Parch  Embarked\n",
              "0         0       3    0  1.0      1      0         0\n",
              "1         1       1    1  1.0      1      0         1\n",
              "2         1       3    1  1.0      0      0         0\n",
              "3         1       1    1  1.0      1      0         0\n",
              "4         0       3    0  1.0      0      0         0"
            ]
          },
          "metadata": {},
          "execution_count": 13
        }
      ]
    },
    {
      "cell_type": "code",
      "metadata": {
        "id": "kBHs_sv16vOZ"
      },
      "source": [
        "X=df.drop(columns=['Survived'])"
      ],
      "execution_count": 14,
      "outputs": []
    },
    {
      "cell_type": "code",
      "metadata": {
        "id": "TZmbHCvr63fx"
      },
      "source": [
        "Y=df['Survived']"
      ],
      "execution_count": 15,
      "outputs": []
    },
    {
      "cell_type": "code",
      "metadata": {
        "id": "uiOsMVKY65qB"
      },
      "source": [
        "X=X.to_numpy()\n",
        "Y=Y.to_numpy()"
      ],
      "execution_count": 16,
      "outputs": []
    },
    {
      "cell_type": "markdown",
      "metadata": {
        "id": "GVz0pLeX69vR"
      },
      "source": [
        "Splitting Train and Test data"
      ]
    },
    {
      "cell_type": "code",
      "metadata": {
        "id": "azCa2KoM68VJ"
      },
      "source": [
        "from sklearn.model_selection import train_test_split\n",
        "X_train, X_test, y_train, y_test = train_test_split(X,Y, test_size=0.1, random_state=2)"
      ],
      "execution_count": 231,
      "outputs": []
    },
    {
      "cell_type": "code",
      "metadata": {
        "colab": {
          "base_uri": "https://localhost:8080/"
        },
        "id": "dZ1i4df87CHo",
        "outputId": "3b16af71-45c9-43f3-d610-a68a9d1d42e0"
      },
      "source": [
        "X_train.shape"
      ],
      "execution_count": 232,
      "outputs": [
        {
          "output_type": "execute_result",
          "data": {
            "text/plain": [
              "(642, 6)"
            ]
          },
          "metadata": {},
          "execution_count": 232
        }
      ]
    },
    {
      "cell_type": "code",
      "metadata": {
        "colab": {
          "base_uri": "https://localhost:8080/"
        },
        "id": "b-V2yP9C7D8g",
        "outputId": "3c5a97f5-cf04-45a8-dbf4-900f8b832626"
      },
      "source": [
        "X_test.shape"
      ],
      "execution_count": 233,
      "outputs": [
        {
          "output_type": "execute_result",
          "data": {
            "text/plain": [
              "(72, 6)"
            ]
          },
          "metadata": {},
          "execution_count": 233
        }
      ]
    },
    {
      "cell_type": "markdown",
      "metadata": {
        "id": "QfYFQiP-7Q3w"
      },
      "source": [
        "**MODEL TRAINING**"
      ]
    },
    {
      "cell_type": "code",
      "metadata": {
        "id": "ZY5vpK3q7Qh5"
      },
      "source": [
        "def get_model():\n",
        "  inputs=keras.Input(shape=(6,))\n",
        "  \n",
        "  x=layers.Dense(64)(inputs)\n",
        "  x=layers.BatchNormalization()(x)\n",
        "  x=keras.activations.elu(x)\n",
        "  x=keras.layers.Dropout(0.2)(x)\n",
        "\n",
        "  x=layers.Dense(128)(x)\n",
        "  x=layers.BatchNormalization()(x)\n",
        "  x=keras.activations.elu(x)\n",
        "  x=layers.Dropout(0.2)(x)\n",
        "\n",
        "  x=layers.Dense(256)(x)\n",
        "  x=layers.BatchNormalization()(x)\n",
        "  x=keras.activations.elu(x)\n",
        "  x=layers.Dropout(0.2)(x)\n",
        "\n",
        "  x=layers.Dense(512)(x)\n",
        "  x=layers.BatchNormalization()(x)\n",
        "  x=keras.activations.elu(x)\n",
        "  x=layers.Dropout(0.2)(x)\n",
        "\n",
        "  x=layers.Dense(512)(x)\n",
        "  x=layers.BatchNormalization()(x)\n",
        "  x=keras.activations.elu(x)\n",
        "  x=layers.Dropout(0.3)(x)\n",
        "\n",
        "  x=layers.Dense(1024)(x)\n",
        "  x=layers.BatchNormalization()(x)\n",
        "  x=keras.activations.elu(x)\n",
        "  x=layers.Dropout(0.3)(x)\n",
        "\n",
        "  x=layers.Dense(2048)(x)\n",
        "  x=layers.BatchNormalization()(x)\n",
        "  x=keras.activations.elu(x)\n",
        "  x=layers.Dropout(0.2)(x)\n",
        "\n",
        "  x=layers.Dense(4096)(x)\n",
        "  x=layers.BatchNormalization()(x)\n",
        "  x=keras.activations.elu(x)\n",
        "  x=layers.Dropout(0.2)(x)\n",
        "\n",
        "  x=layers.Dense(1024)(x)\n",
        "  x=layers.BatchNormalization()(x)\n",
        "  x=keras.activations.elu(x)\n",
        "  x=layers.Dropout(0.2)(x)\n",
        "\n",
        "  outputs=layers.Dense(1, activation='sigmoid')(x)\n",
        "\n",
        "  model=keras.Model(inputs=inputs, outputs=outputs)\n",
        "\n",
        "  return model"
      ],
      "execution_count": 214,
      "outputs": []
    },
    {
      "cell_type": "code",
      "metadata": {
        "colab": {
          "base_uri": "https://localhost:8080/"
        },
        "id": "wrSG1vER7FeI",
        "outputId": "ad881cee-6487-4d8d-d8c0-6f70b2850010"
      },
      "source": [
        "model=get_model()\n",
        "model.summary()"
      ],
      "execution_count": 215,
      "outputs": [
        {
          "output_type": "stream",
          "name": "stdout",
          "text": [
            "Model: \"model_20\"\n",
            "_________________________________________________________________\n",
            "Layer (type)                 Output Shape              Param #   \n",
            "=================================================================\n",
            "input_21 (InputLayer)        [(None, 6)]               0         \n",
            "_________________________________________________________________\n",
            "dense_186 (Dense)            (None, 64)                448       \n",
            "_________________________________________________________________\n",
            "batch_normalization_166 (Bat (None, 64)                256       \n",
            "_________________________________________________________________\n",
            "tf.nn.elu_166 (TFOpLambda)   (None, 64)                0         \n",
            "_________________________________________________________________\n",
            "dropout_121 (Dropout)        (None, 64)                0         \n",
            "_________________________________________________________________\n",
            "dense_187 (Dense)            (None, 128)               8320      \n",
            "_________________________________________________________________\n",
            "batch_normalization_167 (Bat (None, 128)               512       \n",
            "_________________________________________________________________\n",
            "tf.nn.elu_167 (TFOpLambda)   (None, 128)               0         \n",
            "_________________________________________________________________\n",
            "dropout_122 (Dropout)        (None, 128)               0         \n",
            "_________________________________________________________________\n",
            "dense_188 (Dense)            (None, 256)               33024     \n",
            "_________________________________________________________________\n",
            "batch_normalization_168 (Bat (None, 256)               1024      \n",
            "_________________________________________________________________\n",
            "tf.nn.elu_168 (TFOpLambda)   (None, 256)               0         \n",
            "_________________________________________________________________\n",
            "dropout_123 (Dropout)        (None, 256)               0         \n",
            "_________________________________________________________________\n",
            "dense_189 (Dense)            (None, 512)               131584    \n",
            "_________________________________________________________________\n",
            "batch_normalization_169 (Bat (None, 512)               2048      \n",
            "_________________________________________________________________\n",
            "tf.nn.elu_169 (TFOpLambda)   (None, 512)               0         \n",
            "_________________________________________________________________\n",
            "dropout_124 (Dropout)        (None, 512)               0         \n",
            "_________________________________________________________________\n",
            "dense_190 (Dense)            (None, 512)               262656    \n",
            "_________________________________________________________________\n",
            "batch_normalization_170 (Bat (None, 512)               2048      \n",
            "_________________________________________________________________\n",
            "tf.nn.elu_170 (TFOpLambda)   (None, 512)               0         \n",
            "_________________________________________________________________\n",
            "dropout_125 (Dropout)        (None, 512)               0         \n",
            "_________________________________________________________________\n",
            "dense_191 (Dense)            (None, 1024)              525312    \n",
            "_________________________________________________________________\n",
            "batch_normalization_171 (Bat (None, 1024)              4096      \n",
            "_________________________________________________________________\n",
            "tf.nn.elu_171 (TFOpLambda)   (None, 1024)              0         \n",
            "_________________________________________________________________\n",
            "dropout_126 (Dropout)        (None, 1024)              0         \n",
            "_________________________________________________________________\n",
            "dense_192 (Dense)            (None, 2048)              2099200   \n",
            "_________________________________________________________________\n",
            "batch_normalization_172 (Bat (None, 2048)              8192      \n",
            "_________________________________________________________________\n",
            "tf.nn.elu_172 (TFOpLambda)   (None, 2048)              0         \n",
            "_________________________________________________________________\n",
            "dropout_127 (Dropout)        (None, 2048)              0         \n",
            "_________________________________________________________________\n",
            "dense_193 (Dense)            (None, 4096)              8392704   \n",
            "_________________________________________________________________\n",
            "batch_normalization_173 (Bat (None, 4096)              16384     \n",
            "_________________________________________________________________\n",
            "tf.nn.elu_173 (TFOpLambda)   (None, 4096)              0         \n",
            "_________________________________________________________________\n",
            "dropout_128 (Dropout)        (None, 4096)              0         \n",
            "_________________________________________________________________\n",
            "dense_194 (Dense)            (None, 1024)              4195328   \n",
            "_________________________________________________________________\n",
            "batch_normalization_174 (Bat (None, 1024)              4096      \n",
            "_________________________________________________________________\n",
            "tf.nn.elu_174 (TFOpLambda)   (None, 1024)              0         \n",
            "_________________________________________________________________\n",
            "dropout_129 (Dropout)        (None, 1024)              0         \n",
            "_________________________________________________________________\n",
            "dense_195 (Dense)            (None, 1)                 1025      \n",
            "=================================================================\n",
            "Total params: 15,688,257\n",
            "Trainable params: 15,668,929\n",
            "Non-trainable params: 19,328\n",
            "_________________________________________________________________\n"
          ]
        }
      ]
    },
    {
      "cell_type": "code",
      "metadata": {
        "id": "uOvmUeua7iDJ"
      },
      "source": [
        "\n",
        "model.compile(optimizer=keras.optimizers.Adam(),\n",
        "              loss='binary_crossentropy',\n",
        "              metrics=['accuracy'])"
      ],
      "execution_count": 216,
      "outputs": []
    },
    {
      "cell_type": "code",
      "metadata": {
        "colab": {
          "base_uri": "https://localhost:8080/"
        },
        "id": "lwI593SI7m_6",
        "outputId": "da773d55-55c7-4d27-da41-0d9dd3b2dec9"
      },
      "source": [
        "\n",
        "model.fit(X_train, y_train, batch_size=32, epochs=100)"
      ],
      "execution_count": 234,
      "outputs": [
        {
          "output_type": "stream",
          "name": "stdout",
          "text": [
            "Epoch 1/100\n",
            "21/21 [==============================] - 0s 20ms/step - loss: 0.4951 - accuracy: 0.7555\n",
            "Epoch 2/100\n",
            "21/21 [==============================] - 0s 19ms/step - loss: 0.4424 - accuracy: 0.8178\n",
            "Epoch 3/100\n",
            "21/21 [==============================] - 0s 19ms/step - loss: 0.4703 - accuracy: 0.7741\n",
            "Epoch 4/100\n",
            "21/21 [==============================] - 0s 18ms/step - loss: 0.4743 - accuracy: 0.8069\n",
            "Epoch 5/100\n",
            "21/21 [==============================] - 0s 18ms/step - loss: 0.4388 - accuracy: 0.7944\n",
            "Epoch 6/100\n",
            "21/21 [==============================] - 0s 18ms/step - loss: 0.4307 - accuracy: 0.8146\n",
            "Epoch 7/100\n",
            "21/21 [==============================] - 0s 18ms/step - loss: 0.4384 - accuracy: 0.7975\n",
            "Epoch 8/100\n",
            "21/21 [==============================] - 0s 18ms/step - loss: 0.4328 - accuracy: 0.8146\n",
            "Epoch 9/100\n",
            "21/21 [==============================] - 0s 19ms/step - loss: 0.4208 - accuracy: 0.8209\n",
            "Epoch 10/100\n",
            "21/21 [==============================] - 0s 19ms/step - loss: 0.4423 - accuracy: 0.7928\n",
            "Epoch 11/100\n",
            "21/21 [==============================] - 0s 18ms/step - loss: 0.4475 - accuracy: 0.8131\n",
            "Epoch 12/100\n",
            "21/21 [==============================] - 0s 18ms/step - loss: 0.4299 - accuracy: 0.8240\n",
            "Epoch 13/100\n",
            "21/21 [==============================] - 0s 18ms/step - loss: 0.4244 - accuracy: 0.8178\n",
            "Epoch 14/100\n",
            "21/21 [==============================] - 0s 19ms/step - loss: 0.4588 - accuracy: 0.7960\n",
            "Epoch 15/100\n",
            "21/21 [==============================] - 0s 18ms/step - loss: 0.4521 - accuracy: 0.7944\n",
            "Epoch 16/100\n",
            "21/21 [==============================] - 0s 18ms/step - loss: 0.4111 - accuracy: 0.8084\n",
            "Epoch 17/100\n",
            "21/21 [==============================] - 0s 18ms/step - loss: 0.4183 - accuracy: 0.8146\n",
            "Epoch 18/100\n",
            "21/21 [==============================] - 0s 18ms/step - loss: 0.4155 - accuracy: 0.8255\n",
            "Epoch 19/100\n",
            "21/21 [==============================] - 0s 18ms/step - loss: 0.4454 - accuracy: 0.8146\n",
            "Epoch 20/100\n",
            "21/21 [==============================] - 0s 19ms/step - loss: 0.4390 - accuracy: 0.8131\n",
            "Epoch 21/100\n",
            "21/21 [==============================] - 0s 18ms/step - loss: 0.4255 - accuracy: 0.8131\n",
            "Epoch 22/100\n",
            "21/21 [==============================] - 0s 18ms/step - loss: 0.4518 - accuracy: 0.8006\n",
            "Epoch 23/100\n",
            "21/21 [==============================] - 0s 18ms/step - loss: 0.4382 - accuracy: 0.8037\n",
            "Epoch 24/100\n",
            "21/21 [==============================] - 0s 18ms/step - loss: 0.4386 - accuracy: 0.8115\n",
            "Epoch 25/100\n",
            "21/21 [==============================] - 0s 18ms/step - loss: 0.4355 - accuracy: 0.8224\n",
            "Epoch 26/100\n",
            "21/21 [==============================] - 0s 18ms/step - loss: 0.4263 - accuracy: 0.8146\n",
            "Epoch 27/100\n",
            "21/21 [==============================] - 0s 18ms/step - loss: 0.4352 - accuracy: 0.8162\n",
            "Epoch 28/100\n",
            "21/21 [==============================] - 0s 18ms/step - loss: 0.4605 - accuracy: 0.8084\n",
            "Epoch 29/100\n",
            "21/21 [==============================] - 0s 18ms/step - loss: 0.4411 - accuracy: 0.8131\n",
            "Epoch 30/100\n",
            "21/21 [==============================] - 0s 18ms/step - loss: 0.4379 - accuracy: 0.8146\n",
            "Epoch 31/100\n",
            "21/21 [==============================] - 0s 18ms/step - loss: 0.4282 - accuracy: 0.8287\n",
            "Epoch 32/100\n",
            "21/21 [==============================] - 0s 18ms/step - loss: 0.4399 - accuracy: 0.8069\n",
            "Epoch 33/100\n",
            "21/21 [==============================] - 0s 17ms/step - loss: 0.4302 - accuracy: 0.8115\n",
            "Epoch 34/100\n",
            "21/21 [==============================] - 0s 18ms/step - loss: 0.4633 - accuracy: 0.7928\n",
            "Epoch 35/100\n",
            "21/21 [==============================] - 0s 18ms/step - loss: 0.4747 - accuracy: 0.7835\n",
            "Epoch 36/100\n",
            "21/21 [==============================] - 0s 18ms/step - loss: 0.4382 - accuracy: 0.8022\n",
            "Epoch 37/100\n",
            "21/21 [==============================] - 0s 19ms/step - loss: 0.4390 - accuracy: 0.7991\n",
            "Epoch 38/100\n",
            "21/21 [==============================] - 0s 18ms/step - loss: 0.4409 - accuracy: 0.8162\n",
            "Epoch 39/100\n",
            "21/21 [==============================] - 0s 18ms/step - loss: 0.4433 - accuracy: 0.8115\n",
            "Epoch 40/100\n",
            "21/21 [==============================] - 0s 19ms/step - loss: 0.4174 - accuracy: 0.8131\n",
            "Epoch 41/100\n",
            "21/21 [==============================] - 0s 18ms/step - loss: 0.4303 - accuracy: 0.8006\n",
            "Epoch 42/100\n",
            "21/21 [==============================] - 0s 18ms/step - loss: 0.4562 - accuracy: 0.7882\n",
            "Epoch 43/100\n",
            "21/21 [==============================] - 0s 18ms/step - loss: 0.4343 - accuracy: 0.8255\n",
            "Epoch 44/100\n",
            "21/21 [==============================] - 0s 18ms/step - loss: 0.4321 - accuracy: 0.8162\n",
            "Epoch 45/100\n",
            "21/21 [==============================] - 0s 18ms/step - loss: 0.4331 - accuracy: 0.7819\n",
            "Epoch 46/100\n",
            "21/21 [==============================] - 0s 18ms/step - loss: 0.4500 - accuracy: 0.8006\n",
            "Epoch 47/100\n",
            "21/21 [==============================] - 0s 18ms/step - loss: 0.4590 - accuracy: 0.7944\n",
            "Epoch 48/100\n",
            "21/21 [==============================] - 0s 18ms/step - loss: 0.4193 - accuracy: 0.8193\n",
            "Epoch 49/100\n",
            "21/21 [==============================] - 0s 18ms/step - loss: 0.4473 - accuracy: 0.8037\n",
            "Epoch 50/100\n",
            "21/21 [==============================] - 0s 19ms/step - loss: 0.4525 - accuracy: 0.7975\n",
            "Epoch 51/100\n",
            "21/21 [==============================] - 0s 18ms/step - loss: 0.4152 - accuracy: 0.8084\n",
            "Epoch 52/100\n",
            "21/21 [==============================] - 0s 18ms/step - loss: 0.4182 - accuracy: 0.8069\n",
            "Epoch 53/100\n",
            "21/21 [==============================] - 0s 18ms/step - loss: 0.4355 - accuracy: 0.8022\n",
            "Epoch 54/100\n",
            "21/21 [==============================] - 0s 18ms/step - loss: 0.4293 - accuracy: 0.8022\n",
            "Epoch 55/100\n",
            "21/21 [==============================] - 0s 18ms/step - loss: 0.3994 - accuracy: 0.8162\n",
            "Epoch 56/100\n",
            "21/21 [==============================] - 0s 18ms/step - loss: 0.4647 - accuracy: 0.7913\n",
            "Epoch 57/100\n",
            "21/21 [==============================] - 0s 18ms/step - loss: 0.4266 - accuracy: 0.8240\n",
            "Epoch 58/100\n",
            "21/21 [==============================] - 0s 17ms/step - loss: 0.4191 - accuracy: 0.8084\n",
            "Epoch 59/100\n",
            "21/21 [==============================] - 0s 18ms/step - loss: 0.4344 - accuracy: 0.7944\n",
            "Epoch 60/100\n",
            "21/21 [==============================] - 0s 18ms/step - loss: 0.4470 - accuracy: 0.7913\n",
            "Epoch 61/100\n",
            "21/21 [==============================] - 0s 18ms/step - loss: 0.4418 - accuracy: 0.7944\n",
            "Epoch 62/100\n",
            "21/21 [==============================] - 0s 18ms/step - loss: 0.4253 - accuracy: 0.8162\n",
            "Epoch 63/100\n",
            "21/21 [==============================] - 0s 18ms/step - loss: 0.4388 - accuracy: 0.7928\n",
            "Epoch 64/100\n",
            "21/21 [==============================] - 0s 18ms/step - loss: 0.4256 - accuracy: 0.8162\n",
            "Epoch 65/100\n",
            "21/21 [==============================] - 0s 18ms/step - loss: 0.4401 - accuracy: 0.8037\n",
            "Epoch 66/100\n",
            "21/21 [==============================] - 0s 18ms/step - loss: 0.4318 - accuracy: 0.8131\n",
            "Epoch 67/100\n",
            "21/21 [==============================] - 0s 18ms/step - loss: 0.4139 - accuracy: 0.8240\n",
            "Epoch 68/100\n",
            "21/21 [==============================] - 0s 18ms/step - loss: 0.4479 - accuracy: 0.8146\n",
            "Epoch 69/100\n",
            "21/21 [==============================] - 0s 19ms/step - loss: 0.4456 - accuracy: 0.8209\n",
            "Epoch 70/100\n",
            "21/21 [==============================] - 0s 17ms/step - loss: 0.4485 - accuracy: 0.8022\n",
            "Epoch 71/100\n",
            "21/21 [==============================] - 0s 18ms/step - loss: 0.4126 - accuracy: 0.8209\n",
            "Epoch 72/100\n",
            "21/21 [==============================] - 0s 18ms/step - loss: 0.4148 - accuracy: 0.8053\n",
            "Epoch 73/100\n",
            "21/21 [==============================] - 0s 18ms/step - loss: 0.4436 - accuracy: 0.8146\n",
            "Epoch 74/100\n",
            "21/21 [==============================] - 0s 18ms/step - loss: 0.4348 - accuracy: 0.8069\n",
            "Epoch 75/100\n",
            "21/21 [==============================] - 0s 17ms/step - loss: 0.4375 - accuracy: 0.8146\n",
            "Epoch 76/100\n",
            "21/21 [==============================] - 0s 19ms/step - loss: 0.4338 - accuracy: 0.8022\n",
            "Epoch 77/100\n",
            "21/21 [==============================] - 0s 19ms/step - loss: 0.4281 - accuracy: 0.8255\n",
            "Epoch 78/100\n",
            "21/21 [==============================] - 0s 18ms/step - loss: 0.4392 - accuracy: 0.7960\n",
            "Epoch 79/100\n",
            "21/21 [==============================] - 0s 18ms/step - loss: 0.4283 - accuracy: 0.8162\n",
            "Epoch 80/100\n",
            "21/21 [==============================] - 0s 18ms/step - loss: 0.4361 - accuracy: 0.8037\n",
            "Epoch 81/100\n",
            "21/21 [==============================] - 0s 18ms/step - loss: 0.4366 - accuracy: 0.8146\n",
            "Epoch 82/100\n",
            "21/21 [==============================] - 0s 18ms/step - loss: 0.4670 - accuracy: 0.7882\n",
            "Epoch 83/100\n",
            "21/21 [==============================] - 0s 18ms/step - loss: 0.4457 - accuracy: 0.7991\n",
            "Epoch 84/100\n",
            "21/21 [==============================] - 0s 19ms/step - loss: 0.4345 - accuracy: 0.8100\n",
            "Epoch 85/100\n",
            "21/21 [==============================] - 0s 18ms/step - loss: 0.4329 - accuracy: 0.7975\n",
            "Epoch 86/100\n",
            "21/21 [==============================] - 0s 18ms/step - loss: 0.4373 - accuracy: 0.8037\n",
            "Epoch 87/100\n",
            "21/21 [==============================] - 0s 18ms/step - loss: 0.4560 - accuracy: 0.8022\n",
            "Epoch 88/100\n",
            "21/21 [==============================] - 0s 18ms/step - loss: 0.4130 - accuracy: 0.8209\n",
            "Epoch 89/100\n",
            "21/21 [==============================] - 0s 18ms/step - loss: 0.4720 - accuracy: 0.7882\n",
            "Epoch 90/100\n",
            "21/21 [==============================] - 0s 19ms/step - loss: 0.4297 - accuracy: 0.8146\n",
            "Epoch 91/100\n",
            "21/21 [==============================] - 0s 18ms/step - loss: 0.4331 - accuracy: 0.8053\n",
            "Epoch 92/100\n",
            "21/21 [==============================] - 0s 18ms/step - loss: 0.4272 - accuracy: 0.8006\n",
            "Epoch 93/100\n",
            "21/21 [==============================] - 0s 18ms/step - loss: 0.4680 - accuracy: 0.7866\n",
            "Epoch 94/100\n",
            "21/21 [==============================] - 0s 19ms/step - loss: 0.4409 - accuracy: 0.7975\n",
            "Epoch 95/100\n",
            "21/21 [==============================] - 0s 18ms/step - loss: 0.4161 - accuracy: 0.8380\n",
            "Epoch 96/100\n",
            "21/21 [==============================] - 0s 18ms/step - loss: 0.4463 - accuracy: 0.8069\n",
            "Epoch 97/100\n",
            "21/21 [==============================] - 0s 18ms/step - loss: 0.4725 - accuracy: 0.7819\n",
            "Epoch 98/100\n",
            "21/21 [==============================] - 0s 18ms/step - loss: 0.4622 - accuracy: 0.7960\n",
            "Epoch 99/100\n",
            "21/21 [==============================] - 0s 18ms/step - loss: 0.4491 - accuracy: 0.8084\n",
            "Epoch 100/100\n",
            "21/21 [==============================] - 0s 19ms/step - loss: 0.4278 - accuracy: 0.8069\n"
          ]
        },
        {
          "output_type": "execute_result",
          "data": {
            "text/plain": [
              "<keras.callbacks.History at 0x7ff9598bf2d0>"
            ]
          },
          "metadata": {},
          "execution_count": 234
        }
      ]
    },
    {
      "cell_type": "code",
      "metadata": {
        "colab": {
          "base_uri": "https://localhost:8080/"
        },
        "id": "PyknwjSP7ouI",
        "outputId": "cb6f8273-f242-4410-d429-382917bbfec0"
      },
      "source": [
        "model.evaluate(X_test, y_test, batch_size=32)"
      ],
      "execution_count": 235,
      "outputs": [
        {
          "output_type": "stream",
          "name": "stdout",
          "text": [
            "3/3 [==============================] - 0s 5ms/step - loss: 0.6091 - accuracy: 0.8056\n"
          ]
        },
        {
          "output_type": "execute_result",
          "data": {
            "text/plain": [
              "[0.6090970635414124, 0.8055555820465088]"
            ]
          },
          "metadata": {},
          "execution_count": 235
        }
      ]
    },
    {
      "cell_type": "markdown",
      "metadata": {
        "id": "73RIgiw9Qzpc"
      },
      "source": [
        "**Importing Test Data to be Submitted**"
      ]
    },
    {
      "cell_type": "code",
      "metadata": {
        "id": "7_MywkPV72QI"
      },
      "source": [
        "df_test=pd.read_csv('/content/drive/Othercomputers/My Laptop/Machine Learning/Titanic/test.csv')"
      ],
      "execution_count": 138,
      "outputs": []
    },
    {
      "cell_type": "code",
      "metadata": {
        "colab": {
          "base_uri": "https://localhost:8080/",
          "height": 204
        },
        "id": "7WFE7FUi8NEQ",
        "outputId": "780d886c-4fbb-4a10-eb55-7c212961a095"
      },
      "source": [
        "df_test.head()"
      ],
      "execution_count": 139,
      "outputs": [
        {
          "output_type": "execute_result",
          "data": {
            "text/html": [
              "<div>\n",
              "<style scoped>\n",
              "    .dataframe tbody tr th:only-of-type {\n",
              "        vertical-align: middle;\n",
              "    }\n",
              "\n",
              "    .dataframe tbody tr th {\n",
              "        vertical-align: top;\n",
              "    }\n",
              "\n",
              "    .dataframe thead th {\n",
              "        text-align: right;\n",
              "    }\n",
              "</style>\n",
              "<table border=\"1\" class=\"dataframe\">\n",
              "  <thead>\n",
              "    <tr style=\"text-align: right;\">\n",
              "      <th></th>\n",
              "      <th>PassengerId</th>\n",
              "      <th>Pclass</th>\n",
              "      <th>Name</th>\n",
              "      <th>Sex</th>\n",
              "      <th>Age</th>\n",
              "      <th>SibSp</th>\n",
              "      <th>Parch</th>\n",
              "      <th>Ticket</th>\n",
              "      <th>Fare</th>\n",
              "      <th>Cabin</th>\n",
              "      <th>Embarked</th>\n",
              "    </tr>\n",
              "  </thead>\n",
              "  <tbody>\n",
              "    <tr>\n",
              "      <th>0</th>\n",
              "      <td>892</td>\n",
              "      <td>3</td>\n",
              "      <td>Kelly, Mr. James</td>\n",
              "      <td>male</td>\n",
              "      <td>34.5</td>\n",
              "      <td>0</td>\n",
              "      <td>0</td>\n",
              "      <td>330911</td>\n",
              "      <td>7.8292</td>\n",
              "      <td>NaN</td>\n",
              "      <td>Q</td>\n",
              "    </tr>\n",
              "    <tr>\n",
              "      <th>1</th>\n",
              "      <td>893</td>\n",
              "      <td>3</td>\n",
              "      <td>Wilkes, Mrs. James (Ellen Needs)</td>\n",
              "      <td>female</td>\n",
              "      <td>47.0</td>\n",
              "      <td>1</td>\n",
              "      <td>0</td>\n",
              "      <td>363272</td>\n",
              "      <td>7.0000</td>\n",
              "      <td>NaN</td>\n",
              "      <td>S</td>\n",
              "    </tr>\n",
              "    <tr>\n",
              "      <th>2</th>\n",
              "      <td>894</td>\n",
              "      <td>2</td>\n",
              "      <td>Myles, Mr. Thomas Francis</td>\n",
              "      <td>male</td>\n",
              "      <td>62.0</td>\n",
              "      <td>0</td>\n",
              "      <td>0</td>\n",
              "      <td>240276</td>\n",
              "      <td>9.6875</td>\n",
              "      <td>NaN</td>\n",
              "      <td>Q</td>\n",
              "    </tr>\n",
              "    <tr>\n",
              "      <th>3</th>\n",
              "      <td>895</td>\n",
              "      <td>3</td>\n",
              "      <td>Wirz, Mr. Albert</td>\n",
              "      <td>male</td>\n",
              "      <td>27.0</td>\n",
              "      <td>0</td>\n",
              "      <td>0</td>\n",
              "      <td>315154</td>\n",
              "      <td>8.6625</td>\n",
              "      <td>NaN</td>\n",
              "      <td>S</td>\n",
              "    </tr>\n",
              "    <tr>\n",
              "      <th>4</th>\n",
              "      <td>896</td>\n",
              "      <td>3</td>\n",
              "      <td>Hirvonen, Mrs. Alexander (Helga E Lindqvist)</td>\n",
              "      <td>female</td>\n",
              "      <td>22.0</td>\n",
              "      <td>1</td>\n",
              "      <td>1</td>\n",
              "      <td>3101298</td>\n",
              "      <td>12.2875</td>\n",
              "      <td>NaN</td>\n",
              "      <td>S</td>\n",
              "    </tr>\n",
              "  </tbody>\n",
              "</table>\n",
              "</div>"
            ],
            "text/plain": [
              "   PassengerId  Pclass  ... Cabin Embarked\n",
              "0          892       3  ...   NaN        Q\n",
              "1          893       3  ...   NaN        S\n",
              "2          894       2  ...   NaN        Q\n",
              "3          895       3  ...   NaN        S\n",
              "4          896       3  ...   NaN        S\n",
              "\n",
              "[5 rows x 11 columns]"
            ]
          },
          "metadata": {},
          "execution_count": 139
        }
      ]
    },
    {
      "cell_type": "markdown",
      "metadata": {
        "id": "T2YKrKk7Q6qG"
      },
      "source": [
        "Changing the data as per the model"
      ]
    },
    {
      "cell_type": "code",
      "metadata": {
        "id": "JrzBywmI8PR5"
      },
      "source": [
        "df_test.drop(columns=['Name','Ticket', 'Cabin', 'Fare'], inplace=True)"
      ],
      "execution_count": 140,
      "outputs": []
    },
    {
      "cell_type": "code",
      "metadata": {
        "id": "tKoHGApC8V4B"
      },
      "source": [
        "for index, row in df_test.iterrows():\n",
        "  if row['Age']<20:\n",
        "    df_test.at[index,'Age']=0\n",
        "  elif row['Age']<50:\n",
        "    df_test.at[index,'Age']=1\n",
        "  else:\n",
        "    df_test.at[index,'Age']=2"
      ],
      "execution_count": 141,
      "outputs": []
    },
    {
      "cell_type": "code",
      "metadata": {
        "colab": {
          "base_uri": "https://localhost:8080/"
        },
        "id": "HR98eBHB8hJ4",
        "outputId": "63a034ca-2f38-4eb4-9c10-c8d3b9977481"
      },
      "source": [
        "df_test.isna().sum()"
      ],
      "execution_count": 142,
      "outputs": [
        {
          "output_type": "execute_result",
          "data": {
            "text/plain": [
              "PassengerId    0\n",
              "Pclass         0\n",
              "Sex            0\n",
              "Age            0\n",
              "SibSp          0\n",
              "Parch          0\n",
              "Embarked       0\n",
              "dtype: int64"
            ]
          },
          "metadata": {},
          "execution_count": 142
        }
      ]
    },
    {
      "cell_type": "code",
      "metadata": {
        "id": "GKPAwmaI8jB4"
      },
      "source": [
        "df_test['Sex'].replace({'male':0, 'female':1}, inplace=True)\n",
        "df_test['Embarked'].replace({'S':0, 'C':1, 'Q':2}, inplace= True)"
      ],
      "execution_count": 143,
      "outputs": []
    },
    {
      "cell_type": "code",
      "metadata": {
        "colab": {
          "base_uri": "https://localhost:8080/",
          "height": 204
        },
        "id": "JpQoBlMm8svh",
        "outputId": "f66504ce-cb21-4af5-f0af-5cec8fb86c37"
      },
      "source": [
        "df_test.head()"
      ],
      "execution_count": 144,
      "outputs": [
        {
          "output_type": "execute_result",
          "data": {
            "text/html": [
              "<div>\n",
              "<style scoped>\n",
              "    .dataframe tbody tr th:only-of-type {\n",
              "        vertical-align: middle;\n",
              "    }\n",
              "\n",
              "    .dataframe tbody tr th {\n",
              "        vertical-align: top;\n",
              "    }\n",
              "\n",
              "    .dataframe thead th {\n",
              "        text-align: right;\n",
              "    }\n",
              "</style>\n",
              "<table border=\"1\" class=\"dataframe\">\n",
              "  <thead>\n",
              "    <tr style=\"text-align: right;\">\n",
              "      <th></th>\n",
              "      <th>PassengerId</th>\n",
              "      <th>Pclass</th>\n",
              "      <th>Sex</th>\n",
              "      <th>Age</th>\n",
              "      <th>SibSp</th>\n",
              "      <th>Parch</th>\n",
              "      <th>Embarked</th>\n",
              "    </tr>\n",
              "  </thead>\n",
              "  <tbody>\n",
              "    <tr>\n",
              "      <th>0</th>\n",
              "      <td>892</td>\n",
              "      <td>3</td>\n",
              "      <td>0</td>\n",
              "      <td>1.0</td>\n",
              "      <td>0</td>\n",
              "      <td>0</td>\n",
              "      <td>2</td>\n",
              "    </tr>\n",
              "    <tr>\n",
              "      <th>1</th>\n",
              "      <td>893</td>\n",
              "      <td>3</td>\n",
              "      <td>1</td>\n",
              "      <td>1.0</td>\n",
              "      <td>1</td>\n",
              "      <td>0</td>\n",
              "      <td>0</td>\n",
              "    </tr>\n",
              "    <tr>\n",
              "      <th>2</th>\n",
              "      <td>894</td>\n",
              "      <td>2</td>\n",
              "      <td>0</td>\n",
              "      <td>2.0</td>\n",
              "      <td>0</td>\n",
              "      <td>0</td>\n",
              "      <td>2</td>\n",
              "    </tr>\n",
              "    <tr>\n",
              "      <th>3</th>\n",
              "      <td>895</td>\n",
              "      <td>3</td>\n",
              "      <td>0</td>\n",
              "      <td>1.0</td>\n",
              "      <td>0</td>\n",
              "      <td>0</td>\n",
              "      <td>0</td>\n",
              "    </tr>\n",
              "    <tr>\n",
              "      <th>4</th>\n",
              "      <td>896</td>\n",
              "      <td>3</td>\n",
              "      <td>1</td>\n",
              "      <td>1.0</td>\n",
              "      <td>1</td>\n",
              "      <td>1</td>\n",
              "      <td>0</td>\n",
              "    </tr>\n",
              "  </tbody>\n",
              "</table>\n",
              "</div>"
            ],
            "text/plain": [
              "   PassengerId  Pclass  Sex  Age  SibSp  Parch  Embarked\n",
              "0          892       3    0  1.0      0      0         2\n",
              "1          893       3    1  1.0      1      0         0\n",
              "2          894       2    0  2.0      0      0         2\n",
              "3          895       3    0  1.0      0      0         0\n",
              "4          896       3    1  1.0      1      1         0"
            ]
          },
          "metadata": {},
          "execution_count": 144
        }
      ]
    },
    {
      "cell_type": "markdown",
      "metadata": {
        "id": "99Xriy8bRH9u"
      },
      "source": [
        "Making Predictions"
      ]
    },
    {
      "cell_type": "code",
      "metadata": {
        "id": "5dsIQVPx8uKQ"
      },
      "source": [
        "yp=model.predict(df_test.drop(columns=['PassengerId']))"
      ],
      "execution_count": 236,
      "outputs": []
    },
    {
      "cell_type": "code",
      "metadata": {
        "id": "R-KVVk_w8znp"
      },
      "source": [
        "y_pred=np.round(yp)"
      ],
      "execution_count": 237,
      "outputs": []
    },
    {
      "cell_type": "markdown",
      "metadata": {
        "id": "ru_2mQ54RKH1"
      },
      "source": [
        "Making of the Submit DataFrame"
      ]
    },
    {
      "cell_type": "code",
      "metadata": {
        "id": "-BIO7q4b81bx"
      },
      "source": [
        "submit=pd.DataFrame(data=df_test['PassengerId'], columns=['PassengerId'])"
      ],
      "execution_count": 238,
      "outputs": []
    },
    {
      "cell_type": "code",
      "metadata": {
        "colab": {
          "base_uri": "https://localhost:8080/",
          "height": 204
        },
        "id": "BWEws4jR9DGl",
        "outputId": "9eb01047-3f5c-417c-8e5e-86390a91fc2a"
      },
      "source": [
        "submit.head()"
      ],
      "execution_count": 239,
      "outputs": [
        {
          "output_type": "execute_result",
          "data": {
            "text/html": [
              "<div>\n",
              "<style scoped>\n",
              "    .dataframe tbody tr th:only-of-type {\n",
              "        vertical-align: middle;\n",
              "    }\n",
              "\n",
              "    .dataframe tbody tr th {\n",
              "        vertical-align: top;\n",
              "    }\n",
              "\n",
              "    .dataframe thead th {\n",
              "        text-align: right;\n",
              "    }\n",
              "</style>\n",
              "<table border=\"1\" class=\"dataframe\">\n",
              "  <thead>\n",
              "    <tr style=\"text-align: right;\">\n",
              "      <th></th>\n",
              "      <th>PassengerId</th>\n",
              "    </tr>\n",
              "  </thead>\n",
              "  <tbody>\n",
              "    <tr>\n",
              "      <th>0</th>\n",
              "      <td>892</td>\n",
              "    </tr>\n",
              "    <tr>\n",
              "      <th>1</th>\n",
              "      <td>893</td>\n",
              "    </tr>\n",
              "    <tr>\n",
              "      <th>2</th>\n",
              "      <td>894</td>\n",
              "    </tr>\n",
              "    <tr>\n",
              "      <th>3</th>\n",
              "      <td>895</td>\n",
              "    </tr>\n",
              "    <tr>\n",
              "      <th>4</th>\n",
              "      <td>896</td>\n",
              "    </tr>\n",
              "  </tbody>\n",
              "</table>\n",
              "</div>"
            ],
            "text/plain": [
              "   PassengerId\n",
              "0          892\n",
              "1          893\n",
              "2          894\n",
              "3          895\n",
              "4          896"
            ]
          },
          "metadata": {},
          "execution_count": 239
        }
      ]
    },
    {
      "cell_type": "code",
      "metadata": {
        "id": "oHOzJptY9Fk9"
      },
      "source": [
        "submit['Survived'] = y_pred"
      ],
      "execution_count": 240,
      "outputs": []
    },
    {
      "cell_type": "code",
      "metadata": {
        "colab": {
          "base_uri": "https://localhost:8080/",
          "height": 204
        },
        "id": "LzEqO2cu9NHB",
        "outputId": "84ef08e7-3d2b-46a9-bdb3-701036e43cf9"
      },
      "source": [
        "submit.head()"
      ],
      "execution_count": 241,
      "outputs": [
        {
          "output_type": "execute_result",
          "data": {
            "text/html": [
              "<div>\n",
              "<style scoped>\n",
              "    .dataframe tbody tr th:only-of-type {\n",
              "        vertical-align: middle;\n",
              "    }\n",
              "\n",
              "    .dataframe tbody tr th {\n",
              "        vertical-align: top;\n",
              "    }\n",
              "\n",
              "    .dataframe thead th {\n",
              "        text-align: right;\n",
              "    }\n",
              "</style>\n",
              "<table border=\"1\" class=\"dataframe\">\n",
              "  <thead>\n",
              "    <tr style=\"text-align: right;\">\n",
              "      <th></th>\n",
              "      <th>PassengerId</th>\n",
              "      <th>Survived</th>\n",
              "    </tr>\n",
              "  </thead>\n",
              "  <tbody>\n",
              "    <tr>\n",
              "      <th>0</th>\n",
              "      <td>892</td>\n",
              "      <td>0.0</td>\n",
              "    </tr>\n",
              "    <tr>\n",
              "      <th>1</th>\n",
              "      <td>893</td>\n",
              "      <td>0.0</td>\n",
              "    </tr>\n",
              "    <tr>\n",
              "      <th>2</th>\n",
              "      <td>894</td>\n",
              "      <td>0.0</td>\n",
              "    </tr>\n",
              "    <tr>\n",
              "      <th>3</th>\n",
              "      <td>895</td>\n",
              "      <td>0.0</td>\n",
              "    </tr>\n",
              "    <tr>\n",
              "      <th>4</th>\n",
              "      <td>896</td>\n",
              "      <td>0.0</td>\n",
              "    </tr>\n",
              "  </tbody>\n",
              "</table>\n",
              "</div>"
            ],
            "text/plain": [
              "   PassengerId  Survived\n",
              "0          892       0.0\n",
              "1          893       0.0\n",
              "2          894       0.0\n",
              "3          895       0.0\n",
              "4          896       0.0"
            ]
          },
          "metadata": {},
          "execution_count": 241
        }
      ]
    },
    {
      "cell_type": "code",
      "metadata": {
        "id": "K8ZLX9XU9OkZ"
      },
      "source": [
        "submit.to_csv('/content/drive/Othercomputers/My Laptop/Machine Learning/Titanic/submit.csv')"
      ],
      "execution_count": 242,
      "outputs": []
    },
    {
      "cell_type": "code",
      "metadata": {
        "id": "OkDFxxem9Uig"
      },
      "source": [
        ""
      ],
      "execution_count": 201,
      "outputs": []
    }
  ]
}